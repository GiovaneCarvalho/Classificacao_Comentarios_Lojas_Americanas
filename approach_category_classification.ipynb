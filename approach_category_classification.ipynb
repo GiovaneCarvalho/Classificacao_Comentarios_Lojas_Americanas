{
  "cells": [
    {
      "cell_type": "markdown",
      "metadata": {
        "id": "yChRvw1gApmo"
      },
      "source": [
        "# 1 -  Importando bibliotecas e recursos"
      ]
    },
    {
      "cell_type": "code",
      "execution_count": null,
      "metadata": {
        "colab": {
          "base_uri": "https://localhost:8080/"
        },
        "id": "hodgylcyC1fm",
        "outputId": "50d2b7c2-bf6d-4e72-af1c-2fcb51fcd8bd"
      },
      "outputs": [
        {
          "output_type": "stream",
          "name": "stdout",
          "text": [
            "Requirement already satisfied: Unidecode in /usr/local/lib/python3.10/dist-packages (1.3.6)\n",
            "Requirement already satisfied: nltk in /usr/local/lib/python3.10/dist-packages (3.8.1)\n",
            "Requirement already satisfied: click in /usr/local/lib/python3.10/dist-packages (from nltk) (8.1.3)\n",
            "Requirement already satisfied: joblib in /usr/local/lib/python3.10/dist-packages (from nltk) (1.2.0)\n",
            "Requirement already satisfied: regex>=2021.8.3 in /usr/local/lib/python3.10/dist-packages (from nltk) (2022.10.31)\n",
            "Requirement already satisfied: tqdm in /usr/local/lib/python3.10/dist-packages (from nltk) (4.65.0)\n",
            "Requirement already satisfied: transformers in /usr/local/lib/python3.10/dist-packages (4.30.2)\n",
            "Requirement already satisfied: filelock in /usr/local/lib/python3.10/dist-packages (from transformers) (3.12.2)\n",
            "Requirement already satisfied: huggingface-hub<1.0,>=0.14.1 in /usr/local/lib/python3.10/dist-packages (from transformers) (0.16.2)\n",
            "Requirement already satisfied: numpy>=1.17 in /usr/local/lib/python3.10/dist-packages (from transformers) (1.22.4)\n",
            "Requirement already satisfied: packaging>=20.0 in /usr/local/lib/python3.10/dist-packages (from transformers) (23.1)\n",
            "Requirement already satisfied: pyyaml>=5.1 in /usr/local/lib/python3.10/dist-packages (from transformers) (6.0)\n",
            "Requirement already satisfied: regex!=2019.12.17 in /usr/local/lib/python3.10/dist-packages (from transformers) (2022.10.31)\n",
            "Requirement already satisfied: requests in /usr/local/lib/python3.10/dist-packages (from transformers) (2.27.1)\n",
            "Requirement already satisfied: tokenizers!=0.11.3,<0.14,>=0.11.1 in /usr/local/lib/python3.10/dist-packages (from transformers) (0.13.3)\n",
            "Requirement already satisfied: safetensors>=0.3.1 in /usr/local/lib/python3.10/dist-packages (from transformers) (0.3.1)\n",
            "Requirement already satisfied: tqdm>=4.27 in /usr/local/lib/python3.10/dist-packages (from transformers) (4.65.0)\n",
            "Requirement already satisfied: fsspec in /usr/local/lib/python3.10/dist-packages (from huggingface-hub<1.0,>=0.14.1->transformers) (2023.6.0)\n",
            "Requirement already satisfied: typing-extensions>=3.7.4.3 in /usr/local/lib/python3.10/dist-packages (from huggingface-hub<1.0,>=0.14.1->transformers) (4.6.3)\n",
            "Requirement already satisfied: urllib3<1.27,>=1.21.1 in /usr/local/lib/python3.10/dist-packages (from requests->transformers) (1.26.16)\n",
            "Requirement already satisfied: certifi>=2017.4.17 in /usr/local/lib/python3.10/dist-packages (from requests->transformers) (2023.5.7)\n",
            "Requirement already satisfied: charset-normalizer~=2.0.0 in /usr/local/lib/python3.10/dist-packages (from requests->transformers) (2.0.12)\n",
            "Requirement already satisfied: idna<4,>=2.5 in /usr/local/lib/python3.10/dist-packages (from requests->transformers) (3.4)\n",
            "Requirement already satisfied: datasets in /usr/local/lib/python3.10/dist-packages (2.13.1)\n",
            "Requirement already satisfied: numpy>=1.17 in /usr/local/lib/python3.10/dist-packages (from datasets) (1.22.4)\n",
            "Requirement already satisfied: pyarrow>=8.0.0 in /usr/local/lib/python3.10/dist-packages (from datasets) (9.0.0)\n",
            "Requirement already satisfied: dill<0.3.7,>=0.3.0 in /usr/local/lib/python3.10/dist-packages (from datasets) (0.3.6)\n",
            "Requirement already satisfied: pandas in /usr/local/lib/python3.10/dist-packages (from datasets) (1.5.3)\n",
            "Requirement already satisfied: requests>=2.19.0 in /usr/local/lib/python3.10/dist-packages (from datasets) (2.27.1)\n",
            "Requirement already satisfied: tqdm>=4.62.1 in /usr/local/lib/python3.10/dist-packages (from datasets) (4.65.0)\n",
            "Requirement already satisfied: xxhash in /usr/local/lib/python3.10/dist-packages (from datasets) (3.2.0)\n",
            "Requirement already satisfied: multiprocess in /usr/local/lib/python3.10/dist-packages (from datasets) (0.70.14)\n",
            "Requirement already satisfied: fsspec[http]>=2021.11.1 in /usr/local/lib/python3.10/dist-packages (from datasets) (2023.6.0)\n",
            "Requirement already satisfied: aiohttp in /usr/local/lib/python3.10/dist-packages (from datasets) (3.8.4)\n",
            "Requirement already satisfied: huggingface-hub<1.0.0,>=0.11.0 in /usr/local/lib/python3.10/dist-packages (from datasets) (0.16.2)\n",
            "Requirement already satisfied: packaging in /usr/local/lib/python3.10/dist-packages (from datasets) (23.1)\n",
            "Requirement already satisfied: pyyaml>=5.1 in /usr/local/lib/python3.10/dist-packages (from datasets) (6.0)\n",
            "Requirement already satisfied: attrs>=17.3.0 in /usr/local/lib/python3.10/dist-packages (from aiohttp->datasets) (23.1.0)\n",
            "Requirement already satisfied: charset-normalizer<4.0,>=2.0 in /usr/local/lib/python3.10/dist-packages (from aiohttp->datasets) (2.0.12)\n",
            "Requirement already satisfied: multidict<7.0,>=4.5 in /usr/local/lib/python3.10/dist-packages (from aiohttp->datasets) (6.0.4)\n",
            "Requirement already satisfied: async-timeout<5.0,>=4.0.0a3 in /usr/local/lib/python3.10/dist-packages (from aiohttp->datasets) (4.0.2)\n",
            "Requirement already satisfied: yarl<2.0,>=1.0 in /usr/local/lib/python3.10/dist-packages (from aiohttp->datasets) (1.9.2)\n",
            "Requirement already satisfied: frozenlist>=1.1.1 in /usr/local/lib/python3.10/dist-packages (from aiohttp->datasets) (1.3.3)\n",
            "Requirement already satisfied: aiosignal>=1.1.2 in /usr/local/lib/python3.10/dist-packages (from aiohttp->datasets) (1.3.1)\n",
            "Requirement already satisfied: filelock in /usr/local/lib/python3.10/dist-packages (from huggingface-hub<1.0.0,>=0.11.0->datasets) (3.12.2)\n",
            "Requirement already satisfied: typing-extensions>=3.7.4.3 in /usr/local/lib/python3.10/dist-packages (from huggingface-hub<1.0.0,>=0.11.0->datasets) (4.6.3)\n",
            "Requirement already satisfied: urllib3<1.27,>=1.21.1 in /usr/local/lib/python3.10/dist-packages (from requests>=2.19.0->datasets) (1.26.16)\n",
            "Requirement already satisfied: certifi>=2017.4.17 in /usr/local/lib/python3.10/dist-packages (from requests>=2.19.0->datasets) (2023.5.7)\n",
            "Requirement already satisfied: idna<4,>=2.5 in /usr/local/lib/python3.10/dist-packages (from requests>=2.19.0->datasets) (3.4)\n",
            "Requirement already satisfied: python-dateutil>=2.8.1 in /usr/local/lib/python3.10/dist-packages (from pandas->datasets) (2.8.2)\n",
            "Requirement already satisfied: pytz>=2020.1 in /usr/local/lib/python3.10/dist-packages (from pandas->datasets) (2022.7.1)\n",
            "Requirement already satisfied: six>=1.5 in /usr/local/lib/python3.10/dist-packages (from python-dateutil>=2.8.1->pandas->datasets) (1.16.0)\n",
            "Requirement already satisfied: tensorflow-addons in /usr/local/lib/python3.10/dist-packages (0.20.0)\n",
            "Requirement already satisfied: packaging in /usr/local/lib/python3.10/dist-packages (from tensorflow-addons) (23.1)\n",
            "Requirement already satisfied: typeguard<3.0.0,>=2.7 in /usr/local/lib/python3.10/dist-packages (from tensorflow-addons) (2.13.3)\n"
          ]
        }
      ],
      "source": [
        "!pip install Unidecode nltk transformers datasets tensorflow-addons"
      ]
    },
    {
      "cell_type": "code",
      "execution_count": null,
      "metadata": {
        "id": "B5sOH5TLApmp"
      },
      "outputs": [],
      "source": [
        "from enum import IntEnum, Enum\n",
        "import os\n",
        "import gc\n",
        "import re\n",
        "import string\n",
        "\n",
        "from datasets import Dataset\n",
        "import nltk\n",
        "from nltk import tokenize, ngrams\n",
        "import numpy as np\n",
        "import pandas as pd\n",
        "\n",
        "from pandas.io.formats.style_render import DataFrame\n",
        "import seaborn as sns\n",
        "from sklearn.feature_extraction.text import CountVectorizer\n",
        "from sklearn.model_selection import train_test_split\n",
        "from sklearn.metrics import accuracy_score, precision_score, f1_score, recall_score, ConfusionMatrixDisplay\n",
        "\n",
        "from transformers import TFAutoModelForSequenceClassification, AutoTokenizer, DataCollatorWithPadding\n",
        "import tensorflow as tf\n",
        "import tensorflow_addons as tfa\n",
        "\n",
        "import unidecode"
      ]
    },
    {
      "cell_type": "code",
      "execution_count": null,
      "metadata": {
        "colab": {
          "base_uri": "https://localhost:8080/",
          "height": 129
        },
        "id": "IRVGWUKEApmt",
        "outputId": "e41a9208-032f-4335-b42c-e948ddd1dc82"
      },
      "outputs": [
        {
          "output_type": "stream",
          "name": "stdout",
          "text": [
            "fatal: destination path 'b2w-reviews01' already exists and is not an empty directory.\n"
          ]
        },
        {
          "output_type": "execute_result",
          "data": {
            "text/plain": [
              "                                         review_text  \\\n",
              "0  Estou contente com a compra entrega rápida o ú...   \n",
              "1  Por apenas R$1994.20,eu consegui comprar esse ...   \n",
              "\n",
              "                       review_title  \n",
              "0                               Bom  \n",
              "1  Preço imbatível, ótima qualidade  "
            ],
            "text/html": [
              "\n",
              "  <div id=\"df-89549627-3f55-4278-a8cc-a121f9bf2317\">\n",
              "    <div class=\"colab-df-container\">\n",
              "      <div>\n",
              "<style scoped>\n",
              "    .dataframe tbody tr th:only-of-type {\n",
              "        vertical-align: middle;\n",
              "    }\n",
              "\n",
              "    .dataframe tbody tr th {\n",
              "        vertical-align: top;\n",
              "    }\n",
              "\n",
              "    .dataframe thead th {\n",
              "        text-align: right;\n",
              "    }\n",
              "</style>\n",
              "<table border=\"1\" class=\"dataframe\">\n",
              "  <thead>\n",
              "    <tr style=\"text-align: right;\">\n",
              "      <th></th>\n",
              "      <th>review_text</th>\n",
              "      <th>review_title</th>\n",
              "    </tr>\n",
              "  </thead>\n",
              "  <tbody>\n",
              "    <tr>\n",
              "      <th>0</th>\n",
              "      <td>Estou contente com a compra entrega rápida o ú...</td>\n",
              "      <td>Bom</td>\n",
              "    </tr>\n",
              "    <tr>\n",
              "      <th>1</th>\n",
              "      <td>Por apenas R$1994.20,eu consegui comprar esse ...</td>\n",
              "      <td>Preço imbatível, ótima qualidade</td>\n",
              "    </tr>\n",
              "  </tbody>\n",
              "</table>\n",
              "</div>\n",
              "      <button class=\"colab-df-convert\" onclick=\"convertToInteractive('df-89549627-3f55-4278-a8cc-a121f9bf2317')\"\n",
              "              title=\"Convert this dataframe to an interactive table.\"\n",
              "              style=\"display:none;\">\n",
              "        \n",
              "  <svg xmlns=\"http://www.w3.org/2000/svg\" height=\"24px\"viewBox=\"0 0 24 24\"\n",
              "       width=\"24px\">\n",
              "    <path d=\"M0 0h24v24H0V0z\" fill=\"none\"/>\n",
              "    <path d=\"M18.56 5.44l.94 2.06.94-2.06 2.06-.94-2.06-.94-.94-2.06-.94 2.06-2.06.94zm-11 1L8.5 8.5l.94-2.06 2.06-.94-2.06-.94L8.5 2.5l-.94 2.06-2.06.94zm10 10l.94 2.06.94-2.06 2.06-.94-2.06-.94-.94-2.06-.94 2.06-2.06.94z\"/><path d=\"M17.41 7.96l-1.37-1.37c-.4-.4-.92-.59-1.43-.59-.52 0-1.04.2-1.43.59L10.3 9.45l-7.72 7.72c-.78.78-.78 2.05 0 2.83L4 21.41c.39.39.9.59 1.41.59.51 0 1.02-.2 1.41-.59l7.78-7.78 2.81-2.81c.8-.78.8-2.07 0-2.86zM5.41 20L4 18.59l7.72-7.72 1.47 1.35L5.41 20z\"/>\n",
              "  </svg>\n",
              "      </button>\n",
              "      \n",
              "  <style>\n",
              "    .colab-df-container {\n",
              "      display:flex;\n",
              "      flex-wrap:wrap;\n",
              "      gap: 12px;\n",
              "    }\n",
              "\n",
              "    .colab-df-convert {\n",
              "      background-color: #E8F0FE;\n",
              "      border: none;\n",
              "      border-radius: 50%;\n",
              "      cursor: pointer;\n",
              "      display: none;\n",
              "      fill: #1967D2;\n",
              "      height: 32px;\n",
              "      padding: 0 0 0 0;\n",
              "      width: 32px;\n",
              "    }\n",
              "\n",
              "    .colab-df-convert:hover {\n",
              "      background-color: #E2EBFA;\n",
              "      box-shadow: 0px 1px 2px rgba(60, 64, 67, 0.3), 0px 1px 3px 1px rgba(60, 64, 67, 0.15);\n",
              "      fill: #174EA6;\n",
              "    }\n",
              "\n",
              "    [theme=dark] .colab-df-convert {\n",
              "      background-color: #3B4455;\n",
              "      fill: #D2E3FC;\n",
              "    }\n",
              "\n",
              "    [theme=dark] .colab-df-convert:hover {\n",
              "      background-color: #434B5C;\n",
              "      box-shadow: 0px 1px 3px 1px rgba(0, 0, 0, 0.15);\n",
              "      filter: drop-shadow(0px 1px 2px rgba(0, 0, 0, 0.3));\n",
              "      fill: #FFFFFF;\n",
              "    }\n",
              "  </style>\n",
              "\n",
              "      <script>\n",
              "        const buttonEl =\n",
              "          document.querySelector('#df-89549627-3f55-4278-a8cc-a121f9bf2317 button.colab-df-convert');\n",
              "        buttonEl.style.display =\n",
              "          google.colab.kernel.accessAllowed ? 'block' : 'none';\n",
              "\n",
              "        async function convertToInteractive(key) {\n",
              "          const element = document.querySelector('#df-89549627-3f55-4278-a8cc-a121f9bf2317');\n",
              "          const dataTable =\n",
              "            await google.colab.kernel.invokeFunction('convertToInteractive',\n",
              "                                                     [key], {});\n",
              "          if (!dataTable) return;\n",
              "\n",
              "          const docLinkHtml = 'Like what you see? Visit the ' +\n",
              "            '<a target=\"_blank\" href=https://colab.research.google.com/notebooks/data_table.ipynb>data table notebook</a>'\n",
              "            + ' to learn more about interactive tables.';\n",
              "          element.innerHTML = '';\n",
              "          dataTable['output_type'] = 'display_data';\n",
              "          await google.colab.output.renderOutput(dataTable, element);\n",
              "          const docLink = document.createElement('div');\n",
              "          docLink.innerHTML = docLinkHtml;\n",
              "          element.appendChild(docLink);\n",
              "        }\n",
              "      </script>\n",
              "    </div>\n",
              "  </div>\n",
              "  "
            ]
          },
          "metadata": {},
          "execution_count": 60
        }
      ],
      "source": [
        "try:\n",
        "  ! git clone https://github.com/americanas-tech/b2w-reviews01.git\n",
        "except:\n",
        "  print('dataset already downloaded')\n",
        "if not os.path.isfile('./B2W-Reviews01.parquet'):\n",
        "  df = pd.read_csv('./b2w-reviews01/B2W-Reviews01.csv')\n",
        "  df['product_id'] = df['product_id'].astype(str)\n",
        "  df.to_parquet('./B2W-Reviews01.parquet')\n",
        "\n",
        "df = pd.read_parquet('./B2W-Reviews01.parquet')\n",
        "df = df[['review_text', 'review_title']]\n",
        "\n",
        "df.head(2)"
      ]
    },
    {
      "cell_type": "markdown",
      "metadata": {
        "id": "QB3gl6DJApmv"
      },
      "source": [
        "# 2 -  Limpeza e tratamento"
      ]
    },
    {
      "cell_type": "code",
      "execution_count": null,
      "metadata": {
        "colab": {
          "base_uri": "https://localhost:8080/",
          "height": 174
        },
        "id": "S3b7EzjZApmx",
        "outputId": "edb42ee8-96c2-4baa-b519-601f85485199"
      },
      "outputs": [
        {
          "output_type": "execute_result",
          "data": {
            "text/plain": [
              "                                              review_text review_title\n",
              "count                                              129098       132071\n",
              "unique                                             126724        56555\n",
              "top     Entrega super rápida .   Parabéns pela agilida...    Muito bom\n",
              "freq                                                   57         3018"
            ],
            "text/html": [
              "\n",
              "  <div id=\"df-d19455b4-01a2-41e9-b0b4-2828c8742249\">\n",
              "    <div class=\"colab-df-container\">\n",
              "      <div>\n",
              "<style scoped>\n",
              "    .dataframe tbody tr th:only-of-type {\n",
              "        vertical-align: middle;\n",
              "    }\n",
              "\n",
              "    .dataframe tbody tr th {\n",
              "        vertical-align: top;\n",
              "    }\n",
              "\n",
              "    .dataframe thead th {\n",
              "        text-align: right;\n",
              "    }\n",
              "</style>\n",
              "<table border=\"1\" class=\"dataframe\">\n",
              "  <thead>\n",
              "    <tr style=\"text-align: right;\">\n",
              "      <th></th>\n",
              "      <th>review_text</th>\n",
              "      <th>review_title</th>\n",
              "    </tr>\n",
              "  </thead>\n",
              "  <tbody>\n",
              "    <tr>\n",
              "      <th>count</th>\n",
              "      <td>129098</td>\n",
              "      <td>132071</td>\n",
              "    </tr>\n",
              "    <tr>\n",
              "      <th>unique</th>\n",
              "      <td>126724</td>\n",
              "      <td>56555</td>\n",
              "    </tr>\n",
              "    <tr>\n",
              "      <th>top</th>\n",
              "      <td>Entrega super rápida .   Parabéns pela agilida...</td>\n",
              "      <td>Muito bom</td>\n",
              "    </tr>\n",
              "    <tr>\n",
              "      <th>freq</th>\n",
              "      <td>57</td>\n",
              "      <td>3018</td>\n",
              "    </tr>\n",
              "  </tbody>\n",
              "</table>\n",
              "</div>\n",
              "      <button class=\"colab-df-convert\" onclick=\"convertToInteractive('df-d19455b4-01a2-41e9-b0b4-2828c8742249')\"\n",
              "              title=\"Convert this dataframe to an interactive table.\"\n",
              "              style=\"display:none;\">\n",
              "        \n",
              "  <svg xmlns=\"http://www.w3.org/2000/svg\" height=\"24px\"viewBox=\"0 0 24 24\"\n",
              "       width=\"24px\">\n",
              "    <path d=\"M0 0h24v24H0V0z\" fill=\"none\"/>\n",
              "    <path d=\"M18.56 5.44l.94 2.06.94-2.06 2.06-.94-2.06-.94-.94-2.06-.94 2.06-2.06.94zm-11 1L8.5 8.5l.94-2.06 2.06-.94-2.06-.94L8.5 2.5l-.94 2.06-2.06.94zm10 10l.94 2.06.94-2.06 2.06-.94-2.06-.94-.94-2.06-.94 2.06-2.06.94z\"/><path d=\"M17.41 7.96l-1.37-1.37c-.4-.4-.92-.59-1.43-.59-.52 0-1.04.2-1.43.59L10.3 9.45l-7.72 7.72c-.78.78-.78 2.05 0 2.83L4 21.41c.39.39.9.59 1.41.59.51 0 1.02-.2 1.41-.59l7.78-7.78 2.81-2.81c.8-.78.8-2.07 0-2.86zM5.41 20L4 18.59l7.72-7.72 1.47 1.35L5.41 20z\"/>\n",
              "  </svg>\n",
              "      </button>\n",
              "      \n",
              "  <style>\n",
              "    .colab-df-container {\n",
              "      display:flex;\n",
              "      flex-wrap:wrap;\n",
              "      gap: 12px;\n",
              "    }\n",
              "\n",
              "    .colab-df-convert {\n",
              "      background-color: #E8F0FE;\n",
              "      border: none;\n",
              "      border-radius: 50%;\n",
              "      cursor: pointer;\n",
              "      display: none;\n",
              "      fill: #1967D2;\n",
              "      height: 32px;\n",
              "      padding: 0 0 0 0;\n",
              "      width: 32px;\n",
              "    }\n",
              "\n",
              "    .colab-df-convert:hover {\n",
              "      background-color: #E2EBFA;\n",
              "      box-shadow: 0px 1px 2px rgba(60, 64, 67, 0.3), 0px 1px 3px 1px rgba(60, 64, 67, 0.15);\n",
              "      fill: #174EA6;\n",
              "    }\n",
              "\n",
              "    [theme=dark] .colab-df-convert {\n",
              "      background-color: #3B4455;\n",
              "      fill: #D2E3FC;\n",
              "    }\n",
              "\n",
              "    [theme=dark] .colab-df-convert:hover {\n",
              "      background-color: #434B5C;\n",
              "      box-shadow: 0px 1px 3px 1px rgba(0, 0, 0, 0.15);\n",
              "      filter: drop-shadow(0px 1px 2px rgba(0, 0, 0, 0.3));\n",
              "      fill: #FFFFFF;\n",
              "    }\n",
              "  </style>\n",
              "\n",
              "      <script>\n",
              "        const buttonEl =\n",
              "          document.querySelector('#df-d19455b4-01a2-41e9-b0b4-2828c8742249 button.colab-df-convert');\n",
              "        buttonEl.style.display =\n",
              "          google.colab.kernel.accessAllowed ? 'block' : 'none';\n",
              "\n",
              "        async function convertToInteractive(key) {\n",
              "          const element = document.querySelector('#df-d19455b4-01a2-41e9-b0b4-2828c8742249');\n",
              "          const dataTable =\n",
              "            await google.colab.kernel.invokeFunction('convertToInteractive',\n",
              "                                                     [key], {});\n",
              "          if (!dataTable) return;\n",
              "\n",
              "          const docLinkHtml = 'Like what you see? Visit the ' +\n",
              "            '<a target=\"_blank\" href=https://colab.research.google.com/notebooks/data_table.ipynb>data table notebook</a>'\n",
              "            + ' to learn more about interactive tables.';\n",
              "          element.innerHTML = '';\n",
              "          dataTable['output_type'] = 'display_data';\n",
              "          await google.colab.output.renderOutput(dataTable, element);\n",
              "          const docLink = document.createElement('div');\n",
              "          docLink.innerHTML = docLinkHtml;\n",
              "          element.appendChild(docLink);\n",
              "        }\n",
              "      </script>\n",
              "    </div>\n",
              "  </div>\n",
              "  "
            ]
          },
          "metadata": {},
          "execution_count": 65
        }
      ],
      "source": [
        "df.describe(include=[object])"
      ]
    },
    {
      "cell_type": "code",
      "execution_count": null,
      "metadata": {
        "id": "Hd4YaHlWApmz"
      },
      "outputs": [],
      "source": [
        "df = df.dropna(subset=['review_text', 'review_title'])\n",
        "df = df.reset_index(drop=True)\n",
        "df.dropna(inplace=True)\n",
        "df = df.drop_duplicates()\n",
        "df = df.reset_index(drop=True)\n",
        "df = df[[\"review_title\", \"review_text\"]].apply(\" \".join, axis=1)\n",
        "df = pd.DataFrame(data=df,columns=['review_text'])"
      ]
    },
    {
      "cell_type": "markdown",
      "metadata": {
        "id": "YosHqXfkApnd"
      },
      "source": [
        "# 3 - Tratamento do texto"
      ]
    },
    {
      "cell_type": "code",
      "execution_count": null,
      "metadata": {
        "colab": {
          "base_uri": "https://localhost:8080/"
        },
        "id": "QFEYQEI5Apnf",
        "outputId": "22dcbcd9-e8e3-4963-d13d-45fb315b8943"
      },
      "outputs": [
        {
          "output_type": "stream",
          "name": "stderr",
          "text": [
            "[nltk_data] Downloading package stopwords to /root/nltk_data...\n",
            "[nltk_data]   Package stopwords is already up-to-date!\n",
            "[nltk_data] Downloading package rslp to /root/nltk_data...\n",
            "[nltk_data]   Package rslp is already up-to-date!\n"
          ]
        }
      ],
      "source": [
        "nltk.download('stopwords')\n",
        "nltk.download('rslp')\n",
        "\n",
        "stopwords = nltk.corpus.stopwords.words(\"portuguese\")\n",
        "stemmer = nltk.RSLPStemmer()\n",
        "translator = str.maketrans('', '', string.punctuation)\n",
        "\n",
        "def remove_stopwords(words):\n",
        "    \"\"\"Remover as Stopwords das palavras tokenizadas\"\"\"\n",
        "    new_words = []\n",
        "    for word in words:\n",
        "        if word not in stopwords:\n",
        "            new_words.append(word)\n",
        "    return new_words\n",
        "\n",
        "def to_lowercase(words):\n",
        "    \"\"\"converter todos os caracteres para lowercase\"\"\"\n",
        "    new_words = []\n",
        "    for word in words:\n",
        "        new_word = word.replace(r\"^a-zA-Z0-9 ]\", \"\")\n",
        "        new_words.append(new_word)\n",
        "    return new_words\n",
        "\n",
        "def remove_punctuation(words):\n",
        "    \"\"\"remover pontuação\"\"\"\n",
        "    new_words = []\n",
        "    for word in words:\n",
        "        new_word = word.translate(translator)\n",
        "        if new_word != '':\n",
        "            new_words.append(new_word)\n",
        "    return new_words\n",
        "\n",
        "\n",
        "\n",
        "def normalize(words):\n",
        "    original_words = words\n",
        "    words = to_lowercase(words)\n",
        "    words = remove_stopwords(words)\n",
        "    words = remove_punctuation(words)\n",
        "    words = [unidecode.unidecode(txt) for txt in words]\n",
        "\n",
        "    words = [stemmer.stem(txt) for txt in words]\n",
        "\n",
        "    try:\n",
        "      ' '.join(words)\n",
        "    except:\n",
        "      print(original_words)\n",
        "\n",
        "    if words != None:\n",
        "      return ' '.join(words)\n"
      ]
    },
    {
      "cell_type": "code",
      "execution_count": null,
      "metadata": {
        "id": "8vMyw5pgq3RN"
      },
      "outputs": [],
      "source": [
        "df = pd.DataFrame( df.apply(normalize, axis=1), columns=['review_text'])"
      ]
    },
    {
      "cell_type": "markdown",
      "metadata": {
        "id": "FeTRAVIX5r2j"
      },
      "source": [
        "# 4 -  Categorização dos sentimentos"
      ]
    },
    {
      "cell_type": "code",
      "execution_count": null,
      "metadata": {
        "id": "5YkMikhFx9ka"
      },
      "outputs": [],
      "source": [
        "# class syntax\n",
        "class Theme(IntEnum):\n",
        "    DELIVERY = 1\n",
        "    PRODUCT = 2\n",
        "    SITE = 3\n",
        "    TRASH = 4"
      ]
    },
    {
      "cell_type": "code",
      "execution_count": null,
      "metadata": {
        "id": "a4H4535HoQa0"
      },
      "outputs": [],
      "source": [
        "def categorize(item, regex):\n",
        "  if re.search(regex, item[0]):\n",
        "    return True\n",
        "  else:\n",
        "    return False\n",
        "\n",
        "\n",
        "regex_product = r\"(perfu|cabo|tamanh|desempenh|barulh|tv|facil|func|cust|defeit|instalaca|manu|mont|aparelh|qualidade|condico|bat|tecni|instal|remot|cel|fon|imag|acab|bonit|wi fi|lig|mater|eletr|instruca|otimo)\"\n",
        "column_product = df.apply(categorize, axis=1, regex=regex_product)\n",
        "\n",
        "regex_delivery = r\"(receb|prev|entreg|praz|cheg|embal|quebr)\"\n",
        "column_delivery = df.apply(categorize, axis=1, regex=regex_delivery)\n",
        "\n",
        "\n",
        "regex_site = r\"(loj|sit|probl|contat|fiscal|carta|atendim|atendente|troc|empr|cancel|mail)\"\n",
        "column_site = df.apply(categorize, axis=1, regex=regex_site)\n",
        "\n",
        "regex_ignore = r\"(bla bla|bom bom|xxx)\"\n",
        "column_ignore = df.apply(categorize, axis=1, regex=regex_ignore)"
      ]
    },
    {
      "cell_type": "code",
      "execution_count": null,
      "metadata": {
        "colab": {
          "base_uri": "https://localhost:8080/"
        },
        "id": "CgaybxNaompA",
        "outputId": "bfdba92a-ba3f-4790-d13b-e60119fbed37"
      },
      "outputs": [
        {
          "output_type": "execute_result",
          "data": {
            "text/plain": [
              "15"
            ]
          },
          "metadata": {},
          "execution_count": 71
        }
      ],
      "source": [
        "df['product_review'] = column_product\n",
        "df['delivery_review'] = column_delivery\n",
        "df['site_review'] = column_site\n",
        "df['ignore_review'] = column_ignore\n",
        "results = None\n",
        "gc.collect()"
      ]
    },
    {
      "cell_type": "code",
      "execution_count": null,
      "metadata": {
        "colab": {
          "base_uri": "https://localhost:8080/",
          "height": 447
        },
        "id": "Ts2d52Gja9qi",
        "outputId": "7783f3a7-e9ed-41ba-e846-b33dea2b45a0"
      },
      "outputs": [
        {
          "output_type": "execute_result",
          "data": {
            "text/plain": [
              "25"
            ]
          },
          "metadata": {},
          "execution_count": 73
        },
        {
          "output_type": "display_data",
          "data": {
            "text/plain": [
              "<Figure size 640x480 with 1 Axes>"
            ],
            "image/png": "[encoded data removed]"
          },
          "metadata": {}
        }
      ],
      "source": [
        "df_plot = pd.DataFrame(data = {\n",
        "    'product_review': column_product,\n",
        "    'delivery_review': column_delivery,\n",
        "    'site_review': column_site\n",
        "})\n",
        "\n",
        "results = {\n",
        "    'x': ['product', 'delivery', 'site'],\n",
        "    'y': [np.count_nonzero(column_product), np.count_nonzero(column_delivery), np.count_nonzero(column_site)]\n",
        "}\n",
        "\n",
        "\n",
        "\n",
        "sns.barplot(data=results, x=\"x\", y=\"y\")\n",
        "df_plot = None\n",
        "results = None\n",
        "results = None\n",
        "gc.collect()"
      ]
    },
    {
      "cell_type": "code",
      "execution_count": null,
      "metadata": {
        "colab": {
          "base_uri": "https://localhost:8080/",
          "height": 447
        },
        "id": "_LI_YsNsl-Bf",
        "outputId": "4f6fb1ca-d00f-466b-e653-ff42ec60c220"
      },
      "outputs": [
        {
          "output_type": "execute_result",
          "data": {
            "text/plain": [
              "3350"
            ]
          },
          "metadata": {},
          "execution_count": 74
        },
        {
          "output_type": "display_data",
          "data": {
            "text/plain": [
              "<Figure size 640x480 with 1 Axes>"
            ],
            "image/png": "[encoded data removed]"
          },
          "metadata": {}
        }
      ],
      "source": [
        "row_sums = df[['product_review','delivery_review', 'site_review']].sum(axis=1)\n",
        "count = np.count_nonzero(row_sums == 0)\n",
        "\n",
        "identified = {\n",
        "    'x': ['identified_clases', 'non_identified'],\n",
        "    'y': [len(column_product)-count, count]\n",
        "}\n",
        "sns.barplot(data=identified, x=\"x\", y=\"y\")\n",
        "\n",
        "row_sums = None\n",
        "identified = None\n",
        "count = None\n",
        "gc.collect()"
      ]
    },
    {
      "cell_type": "code",
      "execution_count": null,
      "metadata": {
        "colab": {
          "base_uri": "https://localhost:8080/",
          "height": 423
        },
        "id": "cc4XLt9p4VrP",
        "outputId": "41fa8c5b-697c-4c6d-be1b-2721d5cc6cda"
      },
      "outputs": [
        {
          "output_type": "execute_result",
          "data": {
            "text/plain": [
              "                                              review_text  product_review  \\\n",
              "0       bom estou contente com a compra entrega rapida...           False   \n",
              "1       preco imbativel otima qualidade por apenas r19...            True   \n",
              "2       atende todas as expectativa supera em agilidad...            True   \n",
              "4       sem duvidas excelente a entrega foi no prazo a...            True   \n",
              "5       produto imperdivel excelente produto por fora ...            True   \n",
              "...                                                   ...             ...   \n",
              "126875  otimo produto vale muito estou usando no contr...            True   \n",
              "126876  sensacional pratico e barato super indico o pr...           False   \n",
              "126877  otimo produto chegou antes do prazo previsto e...            True   \n",
              "126878  o produto nao e bom material fraco poderia ser...            True   \n",
              "126879  produto nao entregue comprei esse produto quan...           False   \n",
              "\n",
              "        delivery_review  site_review  \n",
              "0                  True         True  \n",
              "1                 False        False  \n",
              "2                 False        False  \n",
              "4                  True        False  \n",
              "5                 False        False  \n",
              "...                 ...          ...  \n",
              "126875            False        False  \n",
              "126876             True        False  \n",
              "126877             True        False  \n",
              "126878            False        False  \n",
              "126879             True        False  \n",
              "\n",
              "[106467 rows x 4 columns]"
            ],
            "text/html": [
              "\n",
              "  <div id=\"df-3d74598f-affb-4ea5-8730-4706248c786d\">\n",
              "    <div class=\"colab-df-container\">\n",
              "      <div>\n",
              "<style scoped>\n",
              "    .dataframe tbody tr th:only-of-type {\n",
              "        vertical-align: middle;\n",
              "    }\n",
              "\n",
              "    .dataframe tbody tr th {\n",
              "        vertical-align: top;\n",
              "    }\n",
              "\n",
              "    .dataframe thead th {\n",
              "        text-align: right;\n",
              "    }\n",
              "</style>\n",
              "<table border=\"1\" class=\"dataframe\">\n",
              "  <thead>\n",
              "    <tr style=\"text-align: right;\">\n",
              "      <th></th>\n",
              "      <th>review_text</th>\n",
              "      <th>product_review</th>\n",
              "      <th>delivery_review</th>\n",
              "      <th>site_review</th>\n",
              "    </tr>\n",
              "  </thead>\n",
              "  <tbody>\n",
              "    <tr>\n",
              "      <th>0</th>\n",
              "      <td>bom estou contente com a compra entrega rapida...</td>\n",
              "      <td>False</td>\n",
              "      <td>True</td>\n",
              "      <td>True</td>\n",
              "    </tr>\n",
              "    <tr>\n",
              "      <th>1</th>\n",
              "      <td>preco imbativel otima qualidade por apenas r19...</td>\n",
              "      <td>True</td>\n",
              "      <td>False</td>\n",
              "      <td>False</td>\n",
              "    </tr>\n",
              "    <tr>\n",
              "      <th>2</th>\n",
              "      <td>atende todas as expectativa supera em agilidad...</td>\n",
              "      <td>True</td>\n",
              "      <td>False</td>\n",
              "      <td>False</td>\n",
              "    </tr>\n",
              "    <tr>\n",
              "      <th>4</th>\n",
              "      <td>sem duvidas excelente a entrega foi no prazo a...</td>\n",
              "      <td>True</td>\n",
              "      <td>True</td>\n",
              "      <td>False</td>\n",
              "    </tr>\n",
              "    <tr>\n",
              "      <th>5</th>\n",
              "      <td>produto imperdivel excelente produto por fora ...</td>\n",
              "      <td>True</td>\n",
              "      <td>False</td>\n",
              "      <td>False</td>\n",
              "    </tr>\n",
              "    <tr>\n",
              "      <th>...</th>\n",
              "      <td>...</td>\n",
              "      <td>...</td>\n",
              "      <td>...</td>\n",
              "      <td>...</td>\n",
              "    </tr>\n",
              "    <tr>\n",
              "      <th>126875</th>\n",
              "      <td>otimo produto vale muito estou usando no contr...</td>\n",
              "      <td>True</td>\n",
              "      <td>False</td>\n",
              "      <td>False</td>\n",
              "    </tr>\n",
              "    <tr>\n",
              "      <th>126876</th>\n",
              "      <td>sensacional pratico e barato super indico o pr...</td>\n",
              "      <td>False</td>\n",
              "      <td>True</td>\n",
              "      <td>False</td>\n",
              "    </tr>\n",
              "    <tr>\n",
              "      <th>126877</th>\n",
              "      <td>otimo produto chegou antes do prazo previsto e...</td>\n",
              "      <td>True</td>\n",
              "      <td>True</td>\n",
              "      <td>False</td>\n",
              "    </tr>\n",
              "    <tr>\n",
              "      <th>126878</th>\n",
              "      <td>o produto nao e bom material fraco poderia ser...</td>\n",
              "      <td>True</td>\n",
              "      <td>False</td>\n",
              "      <td>False</td>\n",
              "    </tr>\n",
              "    <tr>\n",
              "      <th>126879</th>\n",
              "      <td>produto nao entregue comprei esse produto quan...</td>\n",
              "      <td>False</td>\n",
              "      <td>True</td>\n",
              "      <td>False</td>\n",
              "    </tr>\n",
              "  </tbody>\n",
              "</table>\n",
              "<p>106467 rows × 4 columns</p>\n",
              "</div>\n",
              "      <button class=\"colab-df-convert\" onclick=\"convertToInteractive('df-3d74598f-affb-4ea5-8730-4706248c786d')\"\n",
              "              title=\"Convert this dataframe to an interactive table.\"\n",
              "              style=\"display:none;\">\n",
              "        \n",
              "  <svg xmlns=\"http://www.w3.org/2000/svg\" height=\"24px\"viewBox=\"0 0 24 24\"\n",
              "       width=\"24px\">\n",
              "    <path d=\"M0 0h24v24H0V0z\" fill=\"none\"/>\n",
              "    <path d=\"M18.56 5.44l.94 2.06.94-2.06 2.06-.94-2.06-.94-.94-2.06-.94 2.06-2.06.94zm-11 1L8.5 8.5l.94-2.06 2.06-.94-2.06-.94L8.5 2.5l-.94 2.06-2.06.94zm10 10l.94 2.06.94-2.06 2.06-.94-2.06-.94-.94-2.06-.94 2.06-2.06.94z\"/><path d=\"M17.41 7.96l-1.37-1.37c-.4-.4-.92-.59-1.43-.59-.52 0-1.04.2-1.43.59L10.3 9.45l-7.72 7.72c-.78.78-.78 2.05 0 2.83L4 21.41c.39.39.9.59 1.41.59.51 0 1.02-.2 1.41-.59l7.78-7.78 2.81-2.81c.8-.78.8-2.07 0-2.86zM5.41 20L4 18.59l7.72-7.72 1.47 1.35L5.41 20z\"/>\n",
              "  </svg>\n",
              "      </button>\n",
              "      \n",
              "  <style>\n",
              "    .colab-df-container {\n",
              "      display:flex;\n",
              "      flex-wrap:wrap;\n",
              "      gap: 12px;\n",
              "    }\n",
              "\n",
              "    .colab-df-convert {\n",
              "      background-color: #E8F0FE;\n",
              "      border: none;\n",
              "      border-radius: 50%;\n",
              "      cursor: pointer;\n",
              "      display: none;\n",
              "      fill: #1967D2;\n",
              "      height: 32px;\n",
              "      padding: 0 0 0 0;\n",
              "      width: 32px;\n",
              "    }\n",
              "\n",
              "    .colab-df-convert:hover {\n",
              "      background-color: #E2EBFA;\n",
              "      box-shadow: 0px 1px 2px rgba(60, 64, 67, 0.3), 0px 1px 3px 1px rgba(60, 64, 67, 0.15);\n",
              "      fill: #174EA6;\n",
              "    }\n",
              "\n",
              "    [theme=dark] .colab-df-convert {\n",
              "      background-color: #3B4455;\n",
              "      fill: #D2E3FC;\n",
              "    }\n",
              "\n",
              "    [theme=dark] .colab-df-convert:hover {\n",
              "      background-color: #434B5C;\n",
              "      box-shadow: 0px 1px 3px 1px rgba(0, 0, 0, 0.15);\n",
              "      filter: drop-shadow(0px 1px 2px rgba(0, 0, 0, 0.3));\n",
              "      fill: #FFFFFF;\n",
              "    }\n",
              "  </style>\n",
              "\n",
              "      <script>\n",
              "        const buttonEl =\n",
              "          document.querySelector('#df-3d74598f-affb-4ea5-8730-4706248c786d button.colab-df-convert');\n",
              "        buttonEl.style.display =\n",
              "          google.colab.kernel.accessAllowed ? 'block' : 'none';\n",
              "\n",
              "        async function convertToInteractive(key) {\n",
              "          const element = document.querySelector('#df-3d74598f-affb-4ea5-8730-4706248c786d');\n",
              "          const dataTable =\n",
              "            await google.colab.kernel.invokeFunction('convertToInteractive',\n",
              "                                                     [key], {});\n",
              "          if (!dataTable) return;\n",
              "\n",
              "          const docLinkHtml = 'Like what you see? Visit the ' +\n",
              "            '<a target=\"_blank\" href=https://colab.research.google.com/notebooks/data_table.ipynb>data table notebook</a>'\n",
              "            + ' to learn more about interactive tables.';\n",
              "          element.innerHTML = '';\n",
              "          dataTable['output_type'] = 'display_data';\n",
              "          await google.colab.output.renderOutput(dataTable, element);\n",
              "          const docLink = document.createElement('div');\n",
              "          docLink.innerHTML = docLinkHtml;\n",
              "          element.appendChild(docLink);\n",
              "        }\n",
              "      </script>\n",
              "    </div>\n",
              "  </div>\n",
              "  "
            ]
          },
          "metadata": {},
          "execution_count": 75
        }
      ],
      "source": [
        "df_test_treino_e_val = df.query('product_review == 1 | delivery_review == 1 | site_review == 1')\n",
        "df_test_treino_e_val = df_test_treino_e_val[[\"review_text\", \"product_review\", \"delivery_review\", \"site_review\"]]\n",
        "\n",
        "df_to_predict = df.query('product_review == 0 & delivery_review == 0 & site_review == 0')\n",
        "df_to_predict = df_to_predict[[\"review_text\", \"product_review\", \"delivery_review\", \"site_review\"]]\n",
        "\n",
        "df_test_treino_e_val"
      ]
    },
    {
      "cell_type": "code",
      "execution_count": null,
      "metadata": {
        "colab": {
          "base_uri": "https://localhost:8080/"
        },
        "id": "4G4bhKZi6FvI",
        "outputId": "fc229d82-dff5-4efd-b88c-5a7c7a1b5052"
      },
      "outputs": [
        {
          "output_type": "stream",
          "name": "stdout",
          "text": [
            "lengths 106467\n"
          ]
        }
      ],
      "source": [
        "labels = ['product_review', 'delivery_review', 'site_review']\n",
        "\n",
        "print(\"lengths\", len(df_test_treino_e_val[\"review_text\"]))\n",
        "\n",
        "len(df_test_treino_e_val.drop('review_text', axis=1).to_numpy())\n",
        "\n",
        "df_test_treino_e_val = DataFrame({\n",
        "  \"text\":   df_test_treino_e_val[\"review_text\"],\n",
        "  \"target\":  [x.astype(int) for x in df_test_treino_e_val.drop('review_text', axis=1).to_numpy()]\n",
        "})\n",
        "\n",
        "\n",
        "df_to_predict =  DataFrame({\n",
        "  \"text\":   df_to_predict[\"review_text\"],\n",
        "  \"target\":  [x.astype(int) for x in df_to_predict.drop('review_text', axis=1).to_numpy()]\n",
        "})"
      ]
    },
    {
      "cell_type": "code",
      "execution_count": null,
      "metadata": {
        "colab": {
          "base_uri": "https://localhost:8080/"
        },
        "id": "FxHqi5jE3wpb",
        "outputId": "4d047f49-9c14-4ee9-fee5-423a0e485eb4"
      },
      "outputs": [
        {
          "output_type": "execute_result",
          "data": {
            "text/plain": [
              "2822"
            ]
          },
          "metadata": {},
          "execution_count": 79
        }
      ],
      "source": [
        "train_temp, test = train_test_split(df_test_treino_e_val, test_size=0.3, random_state=42)\n",
        "train, val = train_test_split(train_temp, test_size=0.25, random_state=42)\n",
        "\n",
        "column_product = None\n",
        "column_delivery = None\n",
        "column_site = None\n",
        "train_temp = None\n",
        "df = None\n",
        "\n",
        "gc.collect()"
      ]
    },
    {
      "cell_type": "markdown",
      "source": [
        "# 5 - Modelo Bert para categorização"
      ],
      "metadata": {
        "id": "BZaUeiToNLwx"
      }
    },
    {
      "cell_type": "code",
      "execution_count": null,
      "metadata": {
        "id": "SeBx1BcrTVHA"
      },
      "outputs": [],
      "source": [
        "# BERT Base\n",
        "model_name = 'neuralmind/bert-base-portuguese-cased'"
      ]
    },
    {
      "cell_type": "code",
      "execution_count": null,
      "metadata": {
        "id": "9P4tC8oy1f1E"
      },
      "outputs": [],
      "source": [
        "# This class was mostly based on a sharing made kindly shared by Gabriel Bianchin de Oliveira. Thanks!\n",
        "class SequenceClassification():\n",
        "\tdef __init__(self,\n",
        "\t\t\t\tmodel_name,\n",
        "\t\t\t\tnum_labels=2,\n",
        "\t\t\t\tmultilabel=False,\n",
        "\t\t\t\tlearning_rate=1e-5,\n",
        "\t\t\t\tmetrics=None,\n",
        "\t\t\t\ttokenizer_model_name=None\n",
        "\t\t\t\t):\n",
        "\n",
        "\t\tself.model_name = model_name\n",
        "\t\tself.num_labels = num_labels\n",
        "\t\tself.multilabel = multilabel\n",
        "\t\tself.learning_rate = learning_rate\n",
        "\n",
        "\t\tself.optimizer = tf.keras.optimizers.Adam(learning_rate=self.learning_rate)\n",
        "\n",
        "\n",
        "\t\tif tokenizer_model_name != None:\n",
        "\t\t\tself.tokenizer_model_name = tokenizer_model_name\n",
        "\t\telse:\n",
        "\t\t\tself.tokenizer_model_name = model_name\n",
        "\n",
        "\t\tself.tokenizer = AutoTokenizer.from_pretrained(self.tokenizer_model_name, do_lower_case=False)\n",
        "\n",
        "\t\tif self.num_labels >= 2:\n",
        "\t\t\tif self.multilabel:\n",
        "\t\t\t\tself.model = TFAutoModelForSequenceClassification.from_pretrained(self.model_name, num_labels=self.num_labels, problem_type=\"multi_label_classification\")\n",
        "\t\t\t\tself.model.layers[0].trainable = False\n",
        "\t\t\t\tself.loss = tf.keras.losses.BinaryCrossentropy(from_logits=True)\n",
        "\t\t\t\tif metrics is None:\n",
        "\t\t\t\t\tself.metrics = ['accuracy']\n",
        "\t\t\t\telse:\n",
        "\t\t\t\t\tself.metrics = metrics\n",
        "\n",
        "\t\t\telse:\n",
        "\t\t\t\tself.model = TFAutoModelForSequenceClassification.from_pretrained(self.model_name, num_labels=self.num_labels, from_pt=True)\n",
        "\t\t\t\tself.loss = tf.keras.losses.SparseCategoricalCrossentropy(from_logits=True)\n",
        "\t\t\t\tif metrics is None:\n",
        "\t\t\t\t\tself.metrics = ['accuracy']\n",
        "\t\t\t\telse:\n",
        "\t\t\t\t\tself.metrics = metrics\n",
        "\n",
        "\t\telse:\n",
        "\t\t\tself.model = TFAutoModelForSequenceClassification.from_pretrained(self.model_name, num_labels=self.num_labels, from_pt=True)\n",
        "\t\t\tself.loss = tf.keras.losses.MeanAbsoluteError()\n",
        "\t\t\tif metrics is None:\n",
        "\t\t\t\tself.metrics = ['mae']\n",
        "\t\t\telse:\n",
        "\t\t\t\tself.metrics = metrics\n",
        "\n",
        "\t\tself.model.compile(optimizer=self.optimizer, loss=self.loss, metrics=self.metrics)\n",
        "\n",
        "\n",
        "\tdef tokenize_function(self, sample):\n",
        "\t\tif self.max_len is None:\n",
        "\t\t\treturn self.tokenizer(sample[\"text\"])\n",
        "\t\telse:\n",
        "\t\t\treturn self.tokenizer(sample[\"text\"], truncation=True, max_length=self.max_len)\n",
        "\n",
        "\n",
        "\tdef load_model(self,\n",
        "\t\t\tmodel,\n",
        "\t\t\tbatch_size=4,\n",
        "\t\t\tmax_len=None\n",
        "\t\t\t):\n",
        "\t\tself.data_collator = DataCollatorWithPadding(tokenizer=self.tokenizer, return_tensors=\"tf\")\n",
        "\t\tself.batch_size = batch_size\n",
        "\t\tself.epochs = None\n",
        "\t\tself.max_len = max_len\n",
        "\t\tself.model = model\n",
        "\t\treturn\n",
        "\n",
        "\tdef fit(self,\n",
        "\t\t\tdf_train,\n",
        "\t\t\tdf_val=None,\n",
        "\t\t\tmax_len=None,\n",
        "\t\t\tepochs=10,\n",
        "\t\t\tbatch_size=4,\n",
        "\t\t\tmodel_checkpoint=None,\n",
        "\t\t\tearly_stopping=None\n",
        "\t\t\t):\n",
        "\n",
        "\t\tself.data_collator = DataCollatorWithPadding(tokenizer=self.tokenizer, return_tensors=\"tf\")\n",
        "\t\tself.batch_size = batch_size\n",
        "\t\tself.epochs = epochs\n",
        "\t\tself.max_len = max_len\n",
        "\n",
        "\t\tself.dataset_train = Dataset.from_pandas(df_train, preserve_index=False)\n",
        "\t\tself.tokenized_dataset_train = self.dataset_train.map(self.tokenize_function)\n",
        "\t\tself.tf_train_dataset = self.tokenized_dataset_train.to_tf_dataset(\n",
        "\t\t\t\t\t\t\t\t\t\t\tcolumns=[\"attention_mask\", \"input_ids\", \"token_type_ids\"],\n",
        "\t\t\t\t\t\t\t\t\t\t\tlabel_cols=[\"target\"],\n",
        "\t\t\t\t\t\t\t\t\t\t\tshuffle=True,\n",
        "\t\t\t\t\t\t\t\t\t\t\tcollate_fn=self.data_collator,\n",
        "\t\t\t\t\t\t\t\t\t\t\tbatch_size=self.batch_size)\n",
        "\n",
        "\t\tif df_val is not None:\n",
        "\t\t\tself.dataset_val = Dataset.from_pandas(df_val, preserve_index=False)\n",
        "\t\t\tself.tokenized_dataset_val = self.dataset_val.map(self.tokenize_function)\n",
        "\t\t\tself.tf_val_dataset = self.tokenized_dataset_train.to_tf_dataset(\n",
        "\t\t\t\t\t\t\t\t\t\t\tcolumns=[\"attention_mask\", \"input_ids\", \"token_type_ids\"],\n",
        "\t\t\t\t\t\t\t\t\t\t\tlabel_cols=[\"target\"],\n",
        "\t\t\t\t\t\t\t\t\t\t\tshuffle=True,\n",
        "\t\t\t\t\t\t\t\t\t\t\tcollate_fn=self.data_collator,\n",
        "\t\t\t\t\t\t\t\t\t\t\tbatch_size=self.batch_size)\n",
        "\n",
        "\t\tself.callbacks = []\n",
        "\t\t# if model_checkpoint is not None:\n",
        "\t\t# \tif df_val is not None:\n",
        "\t\t# \t\tself.callbacks.append(tf.keras.callbacks.ModelCheckpoint(model_checkpoint, save_best_only=True))\n",
        "\t\t# \telse:\n",
        "\t\t# \t\tself.callbacks.append(tf.keras.callbacks.ModelCheckpoint(model_checkpoint, monitor='loss', save_best_only=True))\n",
        "\t\t# if early_stopping is not None:\n",
        "\t\t# \tif df_val is not None:\n",
        "\t\t# \t\tself.callbacks.append(tf.keras.callbacks.EarlyStopping(patience=early_stopping, restore_best_weights=True))\n",
        "\t\t# \telse:\n",
        "\t\t# \t\tself.callbacks.append(tf.keras.callbacks.EarlyStopping(patience=early_stopping, restore_best_weights=True, monitor='loss'))\n",
        "\n",
        "\t\tif df_val is not None:\n",
        "\t\t\tself.model.fit(self.tf_train_dataset, validation_data=self.tf_val_dataset, epochs=self.epochs, batch_size=self.batch_size)\n",
        "\t\telse:\n",
        "\t\t\tself.model.fit(self.tf_train_dataset, epochs=self.epochs, batch_size=self.batch_size)\n",
        "\n",
        "\tdef predict(self,\n",
        "\t\t\t\tdf_test\n",
        "\t\t\t\t):\n",
        "\n",
        "\t\tself.dataset_test = Dataset.from_pandas(df_test, preserve_index=False)\n",
        "\t\tself.tokenized_dataset_test = self.dataset_test.map(self.tokenize_function)\n",
        "\t\tself.tf_test_dataset = self.tokenized_dataset_test.to_tf_dataset(\n",
        "\t\t\t\t\t\t\t\t\t\t\tcolumns=[\"attention_mask\", \"input_ids\", \"token_type_ids\"],\n",
        "\t\t\t\t\t\t\t\t\t\t\tlabel_cols=[\"target\"],\n",
        "\t\t\t\t\t\t\t\t\t\t\tshuffle=False,\n",
        "\t\t\t\t\t\t\t\t\t\t\tcollate_fn=self.data_collator,\n",
        "\t\t\t\t\t\t\t\t\t\t\tbatch_size=self.batch_size)\n",
        "\n",
        "\t\tself.prediction_logits = self.model.predict(self.tf_test_dataset)['logits']\n",
        "\n",
        "\t\tif self.num_labels >= 2:\n",
        "\t\t\tif self.multilabel:\n",
        "\t\t\t\treturn tf.nn.sigmoid(self.prediction_logits).numpy()\n",
        "\t\t\telse:\n",
        "\t\t\t\treturn tf.nn.softmax(self.prediction_logits).numpy()\n",
        "\n",
        "\t\telse:\n",
        "\t\t\treturn self.prediction_logits.numpy()"
      ]
    },
    {
      "cell_type": "code",
      "source": [
        "from google.colab import drive\n",
        "drive.mount('/content/drive')"
      ],
      "metadata": {
        "colab": {
          "base_uri": "https://localhost:8080/"
        },
        "id": "rqbRW-40F2vk",
        "outputId": "21f4ad1e-cad4-4ac8-84d2-5a87a0070666"
      },
      "execution_count": null,
      "outputs": [
        {
          "output_type": "stream",
          "name": "stdout",
          "text": [
            "Drive already mounted at /content/drive; to attempt to forcibly remount, call drive.mount(\"/content/drive\", force_remount=True).\n"
          ]
        }
      ]
    },
    {
      "cell_type": "code",
      "source": [
        "!cp -av /content/drive/MyDrive/INF-0619/categories/saved_v2_pretrained.h5 ./\n",
        "skip_fit = True"
      ],
      "metadata": {
        "colab": {
          "base_uri": "https://localhost:8080/"
        },
        "id": "iOkzOEEfarI3",
        "outputId": "a226dd68-41be-4a04-955e-1fd25b4ec494"
      },
      "execution_count": null,
      "outputs": [
        {
          "output_type": "stream",
          "name": "stdout",
          "text": [
            "'/content/drive/MyDrive/INF-0619/categories/saved_v2_pretrained.h5/tf_model.h5' -> './saved_v2_pretrained.h5/tf_model.h5'\n",
            "'/content/drive/MyDrive/INF-0619/categories/saved_v2_pretrained.h5/config.json' -> './saved_v2_pretrained.h5/config.json'\n"
          ]
        }
      ]
    },
    {
      "cell_type": "code",
      "source": [
        "model_name = './saved_v2_pretrained.h5'"
      ],
      "metadata": {
        "id": "K-6-Nu4HM3QN"
      },
      "execution_count": null,
      "outputs": []
    },
    {
      "cell_type": "code",
      "execution_count": null,
      "metadata": {
        "colab": {
          "base_uri": "https://localhost:8080/"
        },
        "id": "nRBLZUnS2Sq4",
        "outputId": "d2304dd9-1a28-49b7-beb1-5aa720a73692"
      },
      "outputs": [
        {
          "output_type": "stream",
          "name": "stderr",
          "text": [
            "Some layers from the model checkpoint at ./saved_v2_pretrained.h5 were not used when initializing TFBertForSequenceClassification: ['dropout_37']\n",
            "- This IS expected if you are initializing TFBertForSequenceClassification from the checkpoint of a model trained on another task or with another architecture (e.g. initializing a BertForSequenceClassification model from a BertForPreTraining model).\n",
            "- This IS NOT expected if you are initializing TFBertForSequenceClassification from the checkpoint of a model that you expect to be exactly identical (initializing a BertForSequenceClassification model from a BertForSequenceClassification model).\n",
            "All the layers of TFBertForSequenceClassification were initialized from the model checkpoint at ./saved_v2_pretrained.h5.\n",
            "If your task is similar to the task the model of the checkpoint was trained on, you can already use TFBertForSequenceClassification for predictions without further training.\n"
          ]
        }
      ],
      "source": [
        "seqclf = SequenceClassification(model_name, multilabel=True, num_labels=3, learning_rate=2e-3, metrics=['binary_accuracy', 'categorical_accuracy'], tokenizer_model_name='neuralmind/bert-base-portuguese-cased')"
      ]
    },
    {
      "cell_type": "code",
      "execution_count": null,
      "metadata": {
        "id": "9XbfzN6YNQIr",
        "colab": {
          "base_uri": "https://localhost:8080/"
        },
        "outputId": "cdbe661a-a64f-4793-b62b-cea8d90b843a"
      },
      "outputs": [
        {
          "output_type": "stream",
          "name": "stderr",
          "text": [
            "Some layers from the model checkpoint at ./saved_v2_pretrained.h5 were not used when initializing TFBertForSequenceClassification: ['dropout_37']\n",
            "- This IS expected if you are initializing TFBertForSequenceClassification from the checkpoint of a model trained on another task or with another architecture (e.g. initializing a BertForSequenceClassification model from a BertForPreTraining model).\n",
            "- This IS NOT expected if you are initializing TFBertForSequenceClassification from the checkpoint of a model that you expect to be exactly identical (initializing a BertForSequenceClassification model from a BertForSequenceClassification model).\n",
            "All the layers of TFBertForSequenceClassification were initialized from the model checkpoint at ./saved_v2_pretrained.h5.\n",
            "If your task is similar to the task the model of the checkpoint was trained on, you can already use TFBertForSequenceClassification for predictions without further training.\n"
          ]
        }
      ],
      "source": [
        "if os.path.exists(model_name) and skip_fit:\n",
        "  seqclf.load_model( TFAutoModelForSequenceClassification.from_pretrained(model_name, num_labels=3), batch_size=16, max_len=256)\n",
        "else:\n",
        "  seqclf.fit(df_train=train, df_val=val, epochs=3, batch_size=16, max_len=256)"
      ]
    },
    {
      "cell_type": "code",
      "execution_count": null,
      "metadata": {
        "id": "2HswA9svOwxs",
        "colab": {
          "base_uri": "https://localhost:8080/",
          "height": 211,
          "referenced_widgets": [
            "a1121d67e1a0488db0610169357267f3",
            "57a6303478284172a3caba83c8a8689a",
            "433559fec156487a94cdac8a03444798",
            "8c67e28191704ff8abf938474cae4848",
            "68bd01adb0b84ed2a8c701d39e65ba6a",
            "448cd9da45bb4da996a7bed8a29d4e4b",
            "9529662b2ba34e0dbb673767518312fb",
            "36c1e22e82a24001b8b905c867d57945",
            "c2359ec781364cadb6e23e496365b7b6",
            "e53d4be5789046e9a2f7ebeeb6788da3",
            "31550c9307b0434cac3c79cfb8ef36b2"
          ]
        },
        "outputId": "facd5758-cdc6-460f-e90c-64c13f75f4c7"
      },
      "outputs": [
        {
          "output_type": "stream",
          "name": "stderr",
          "text": [
            "/usr/local/lib/python3.10/dist-packages/transformers/generation/tf_utils.py:465: UserWarning: `seed_generator` is deprecated and will be removed in a future version.\n",
            "  warnings.warn(\"`seed_generator` is deprecated and will be removed in a future version.\", UserWarning)\n"
          ]
        },
        {
          "output_type": "display_data",
          "data": {
            "text/plain": [
              "Map:   0%|          | 0/31941 [00:00<?, ? examples/s]"
            ],
            "application/vnd.jupyter.widget-view+json": {
              "version_major": 2,
              "version_minor": 0,
              "model_id": "a1121d67e1a0488db0610169357267f3"
            }
          },
          "metadata": {}
        },
        {
          "output_type": "stream",
          "name": "stderr",
          "text": [
            "/usr/local/lib/python3.10/dist-packages/datasets/arrow_dataset.py:385: FutureWarning: The output of `to_tf_dataset` will change when a passing single element list for `labels` or `columns` in the next datasets version. To return a tuple structure rather than dict, pass a single string.\n",
            "Old behaviour: columns=['a'], labels=['labels'] -> (tf.Tensor, tf.Tensor)  \n",
            "             : columns='a', labels='labels' -> (tf.Tensor, tf.Tensor)  \n",
            "New behaviour: columns=['a'],labels=['labels'] -> ({'a': tf.Tensor}, {'labels': tf.Tensor})  \n",
            "             : columns='a', labels='labels' -> (tf.Tensor, tf.Tensor) \n",
            "  warnings.warn(\n",
            "You're using a BertTokenizerFast tokenizer. Please note that with a fast tokenizer, using the `__call__` method is faster than using a method to encode the text followed by a call to the `pad` method to get a padded encoding.\n"
          ]
        },
        {
          "output_type": "stream",
          "name": "stdout",
          "text": [
            "1997/1997 [==============================] - 286s 142ms/step\n"
          ]
        }
      ],
      "source": [
        "predictions = seqclf.predict(test)"
      ]
    },
    {
      "cell_type": "code",
      "execution_count": null,
      "metadata": {
        "id": "D8qgluEnkkXb"
      },
      "outputs": [],
      "source": [
        "test_predicted_ds = DataFrame({\n",
        "    'text': test['text'],\n",
        "    'predictions': [x for x in np.where(predictions > 0.5, 1, 0)],\n",
        "    'target': test['target']\n",
        "})\n",
        "\n",
        "test = None"
      ]
    },
    {
      "cell_type": "code",
      "execution_count": null,
      "metadata": {
        "id": "ODllNq_R0N0O"
      },
      "outputs": [],
      "source": [
        "def mapfn(sample):\n",
        "  target = np.array(sample[\"target\"].astype(int))\n",
        "  pred = np.array(sample[\"predictions\"])\n",
        "\n",
        "  joined = np.concatenate((target, pred))\n",
        "\n",
        "\n",
        "  return joined\n",
        "\n",
        "stats = pd.DataFrame(data=test_predicted_ds[[\"target\", \"predictions\"]].apply(mapfn, axis=1).to_list(), columns=[\"target_prod\", \"target_delivery\", \"target_site\", \"pred_prod\", \"pred_delivery\", \"pred_site\"])\n",
        "test_predicted_ds = None"
      ]
    },
    {
      "cell_type": "code",
      "source": [
        "disp = ConfusionMatrixDisplay.from_predictions(stats[\"target_prod\"],stats[\"pred_prod\"])\n",
        "disp.ax_.set_title(\"Product Review\")\n",
        "\n",
        "\n",
        "disp = ConfusionMatrixDisplay.from_predictions(stats[\"target_delivery\"],stats[\"pred_delivery\"])\n",
        "disp.ax_.set_title(\"Delivery Review\")\n",
        "\n",
        "\n",
        "disp = ConfusionMatrixDisplay.from_predictions(stats[\"target_site\"],stats[\"pred_site\"])\n",
        "disp.ax_.set_title(\"Site Review\")\n",
        "\n",
        "disp = None"
      ],
      "metadata": {
        "id": "jUeji0YbGr6f",
        "colab": {
          "base_uri": "https://localhost:8080/",
          "height": 1000
        },
        "outputId": "0736c2f3-7c02-460e-bf57-e7dca3a59652"
      },
      "execution_count": null,
      "outputs": [
        {
          "output_type": "display_data",
          "data": {
            "text/plain": [
              "<Figure size 640x480 with 2 Axes>"
            ],
            "image/png": "[encoded data removed]"
          },
          "metadata": {}
        },
        {
          "output_type": "display_data",
          "data": {
            "text/plain": [
              "<Figure size 640x480 with 2 Axes>"
            ],
            "image/png": "[encoded data removed]"
          },
          "metadata": {}
        },
        {
          "output_type": "display_data",
          "data": {
            "text/plain": [
              "<Figure size 640x480 with 2 Axes>"
            ],
            "image/png": "[encoded data removed]"
          },
          "metadata": {}
        }
      ]
    },
    {
      "cell_type": "code",
      "source": [
        "print(' --- Accuracy --- ')\n",
        "print('Product --- ',accuracy_score(stats[\"target_prod\"],stats[\"pred_prod\"]))\n",
        "print('Delivery --- ',accuracy_score(stats[\"target_delivery\"],stats[\"pred_delivery\"]))\n",
        "print('Site --- ',accuracy_score(stats[\"target_site\"],stats[\"pred_site\"]))\n",
        "\n",
        "print(' --- Precision --- ')\n",
        "print('Product --- ',precision_score(stats[\"target_prod\"],stats[\"pred_prod\"]))\n",
        "print('Delivery --- ',precision_score(stats[\"target_delivery\"],stats[\"pred_delivery\"]))\n",
        "print('Site --- ',precision_score(stats[\"target_site\"], stats[\"pred_site\"]))\n",
        "\n",
        "print(' --- Recall --- ')\n",
        "print('Product --- ',recall_score(stats[\"target_prod\"],stats[\"pred_prod\"]))\n",
        "print('Delivery --- ',recall_score(stats[\"target_delivery\"],stats[\"pred_delivery\"]))\n",
        "print('Site --- ',recall_score(stats[\"target_site\"], stats[\"pred_site\"]))\n",
        "\n",
        "print(' --- F1 --- ')\n",
        "print('Product --- ',f1_score(stats[\"target_prod\"],stats[\"pred_prod\"]))\n",
        "print('Delivery --- ',f1_score(stats[\"target_delivery\"],stats[\"pred_delivery\"]))\n",
        "print('Site --- ',f1_score(stats[\"target_site\"], stats[\"pred_site\"]))"
      ],
      "metadata": {
        "id": "jU0Tg7bHWYDr",
        "colab": {
          "base_uri": "https://localhost:8080/"
        },
        "outputId": "ea525907-f52f-450c-9497-63999275158d"
      },
      "execution_count": null,
      "outputs": [
        {
          "output_type": "stream",
          "name": "stdout",
          "text": [
            " --- Accuracy --- \n",
            "Product ---  0.8510691587614665\n",
            "Delivery ---  0.8916439685670455\n",
            "Site ---  0.833724679878526\n",
            " --- Precision --- \n",
            "Product ---  0.8872493673350205\n",
            "Delivery ---  0.8774621212121212\n",
            "Site ---  0.7171041904451328\n",
            " --- Recall --- \n",
            "Product ---  0.9245030425963489\n",
            "Delivery ---  0.9014203255723459\n",
            "Site ---  0.5515425131677953\n",
            " --- F1 --- \n",
            "Product ---  0.90549319558955\n",
            "Delivery ---  0.889279887392431\n",
            "Site ---  0.6235202381796271\n"
          ]
        }
      ]
    }
  ],
  "metadata": {
    "accelerator": "GPU",
    "colab": {
      "provenance": []
    },
    "kernelspec": {
      "display_name": "Python 3",
      "name": "python3"
    },
    "language_info": {
      "codemirror_mode": {
        "name": "ipython",
        "version": 3
      },
      "file_extension": ".py",
      "mimetype": "text/x-python",
      "name": "python",
      "nbconvert_exporter": "python",
      "pygments_lexer": "ipython3",
      "version": "3.9.7"
    },
    "widgets": {
      "application/vnd.jupyter.widget-state+json": {
        "a1121d67e1a0488db0610169357267f3": {
          "model_module": "@jupyter-widgets/controls",
          "model_name": "HBoxModel",
          "model_module_version": "1.5.0",
          "state": {
            "_dom_classes": [],
            "_model_module": "@jupyter-widgets/controls",
            "_model_module_version": "1.5.0",
            "_model_name": "HBoxModel",
            "_view_count": null,
            "_view_module": "@jupyter-widgets/controls",
            "_view_module_version": "1.5.0",
            "_view_name": "HBoxView",
            "box_style": "",
            "children": [
              "IPY_MODEL_57a6303478284172a3caba83c8a8689a",
              "IPY_MODEL_433559fec156487a94cdac8a03444798",
              "IPY_MODEL_8c67e28191704ff8abf938474cae4848"
            ],
            "layout": "IPY_MODEL_68bd01adb0b84ed2a8c701d39e65ba6a"
          }
        },
        "57a6303478284172a3caba83c8a8689a": {
          "model_module": "@jupyter-widgets/controls",
          "model_name": "HTMLModel",
          "model_module_version": "1.5.0",
          "state": {
            "_dom_classes": [],
            "_model_module": "@jupyter-widgets/controls",
            "_model_module_version": "1.5.0",
            "_model_name": "HTMLModel",
            "_view_count": null,
            "_view_module": "@jupyter-widgets/controls",
            "_view_module_version": "1.5.0",
            "_view_name": "HTMLView",
            "description": "",
            "description_tooltip": null,
            "layout": "IPY_MODEL_448cd9da45bb4da996a7bed8a29d4e4b",
            "placeholder": "​",
            "style": "IPY_MODEL_9529662b2ba34e0dbb673767518312fb",
            "value": "Map:  99%"
          }
        },
        "433559fec156487a94cdac8a03444798": {
          "model_module": "@jupyter-widgets/controls",
          "model_name": "FloatProgressModel",
          "model_module_version": "1.5.0",
          "state": {
            "_dom_classes": [],
            "_model_module": "@jupyter-widgets/controls",
            "_model_module_version": "1.5.0",
            "_model_name": "FloatProgressModel",
            "_view_count": null,
            "_view_module": "@jupyter-widgets/controls",
            "_view_module_version": "1.5.0",
            "_view_name": "ProgressView",
            "bar_style": "",
            "description": "",
            "description_tooltip": null,
            "layout": "IPY_MODEL_36c1e22e82a24001b8b905c867d57945",
            "max": 31941,
            "min": 0,
            "orientation": "horizontal",
            "style": "IPY_MODEL_c2359ec781364cadb6e23e496365b7b6",
            "value": 31941
          }
        },
        "8c67e28191704ff8abf938474cae4848": {
          "model_module": "@jupyter-widgets/controls",
          "model_name": "HTMLModel",
          "model_module_version": "1.5.0",
          "state": {
            "_dom_classes": [],
            "_model_module": "@jupyter-widgets/controls",
            "_model_module_version": "1.5.0",
            "_model_name": "HTMLModel",
            "_view_count": null,
            "_view_module": "@jupyter-widgets/controls",
            "_view_module_version": "1.5.0",
            "_view_name": "HTMLView",
            "description": "",
            "description_tooltip": null,
            "layout": "IPY_MODEL_e53d4be5789046e9a2f7ebeeb6788da3",
            "placeholder": "​",
            "style": "IPY_MODEL_31550c9307b0434cac3c79cfb8ef36b2",
            "value": " 31634/31941 [00:09&lt;00:00, 3908.59 examples/s]"
          }
        },
        "68bd01adb0b84ed2a8c701d39e65ba6a": {
          "model_module": "@jupyter-widgets/base",
          "model_name": "LayoutModel",
          "model_module_version": "1.2.0",
          "state": {
            "_model_module": "@jupyter-widgets/base",
            "_model_module_version": "1.2.0",
            "_model_name": "LayoutModel",
            "_view_count": null,
            "_view_module": "@jupyter-widgets/base",
            "_view_module_version": "1.2.0",
            "_view_name": "LayoutView",
            "align_content": null,
            "align_items": null,
            "align_self": null,
            "border": null,
            "bottom": null,
            "display": null,
            "flex": null,
            "flex_flow": null,
            "grid_area": null,
            "grid_auto_columns": null,
            "grid_auto_flow": null,
            "grid_auto_rows": null,
            "grid_column": null,
            "grid_gap": null,
            "grid_row": null,
            "grid_template_areas": null,
            "grid_template_columns": null,
            "grid_template_rows": null,
            "height": null,
            "justify_content": null,
            "justify_items": null,
            "left": null,
            "margin": null,
            "max_height": null,
            "max_width": null,
            "min_height": null,
            "min_width": null,
            "object_fit": null,
            "object_position": null,
            "order": null,
            "overflow": null,
            "overflow_x": null,
            "overflow_y": null,
            "padding": null,
            "right": null,
            "top": null,
            "visibility": "hidden",
            "width": null
          }
        },
        "448cd9da45bb4da996a7bed8a29d4e4b": {
          "model_module": "@jupyter-widgets/base",
          "model_name": "LayoutModel",
          "model_module_version": "1.2.0",
          "state": {
            "_model_module": "@jupyter-widgets/base",
            "_model_module_version": "1.2.0",
            "_model_name": "LayoutModel",
            "_view_count": null,
            "_view_module": "@jupyter-widgets/base",
            "_view_module_version": "1.2.0",
            "_view_name": "LayoutView",
            "align_content": null,
            "align_items": null,
            "align_self": null,
            "border": null,
            "bottom": null,
            "display": null,
            "flex": null,
            "flex_flow": null,
            "grid_area": null,
            "grid_auto_columns": null,
            "grid_auto_flow": null,
            "grid_auto_rows": null,
            "grid_column": null,
            "grid_gap": null,
            "grid_row": null,
            "grid_template_areas": null,
            "grid_template_columns": null,
            "grid_template_rows": null,
            "height": null,
            "justify_content": null,
            "justify_items": null,
            "left": null,
            "margin": null,
            "max_height": null,
            "max_width": null,
            "min_height": null,
            "min_width": null,
            "object_fit": null,
            "object_position": null,
            "order": null,
            "overflow": null,
            "overflow_x": null,
            "overflow_y": null,
            "padding": null,
            "right": null,
            "top": null,
            "visibility": null,
            "width": null
          }
        },
        "9529662b2ba34e0dbb673767518312fb": {
          "model_module": "@jupyter-widgets/controls",
          "model_name": "DescriptionStyleModel",
          "model_module_version": "1.5.0",
          "state": {
            "_model_module": "@jupyter-widgets/controls",
            "_model_module_version": "1.5.0",
            "_model_name": "DescriptionStyleModel",
            "_view_count": null,
            "_view_module": "@jupyter-widgets/base",
            "_view_module_version": "1.2.0",
            "_view_name": "StyleView",
            "description_width": ""
          }
        },
        "36c1e22e82a24001b8b905c867d57945": {
          "model_module": "@jupyter-widgets/base",
          "model_name": "LayoutModel",
          "model_module_version": "1.2.0",
          "state": {
            "_model_module": "@jupyter-widgets/base",
            "_model_module_version": "1.2.0",
            "_model_name": "LayoutModel",
            "_view_count": null,
            "_view_module": "@jupyter-widgets/base",
            "_view_module_version": "1.2.0",
            "_view_name": "LayoutView",
            "align_content": null,
            "align_items": null,
            "align_self": null,
            "border": null,
            "bottom": null,
            "display": null,
            "flex": null,
            "flex_flow": null,
            "grid_area": null,
            "grid_auto_columns": null,
            "grid_auto_flow": null,
            "grid_auto_rows": null,
            "grid_column": null,
            "grid_gap": null,
            "grid_row": null,
            "grid_template_areas": null,
            "grid_template_columns": null,
            "grid_template_rows": null,
            "height": null,
            "justify_content": null,
            "justify_items": null,
            "left": null,
            "margin": null,
            "max_height": null,
            "max_width": null,
            "min_height": null,
            "min_width": null,
            "object_fit": null,
            "object_position": null,
            "order": null,
            "overflow": null,
            "overflow_x": null,
            "overflow_y": null,
            "padding": null,
            "right": null,
            "top": null,
            "visibility": null,
            "width": null
          }
        },
        "c2359ec781364cadb6e23e496365b7b6": {
          "model_module": "@jupyter-widgets/controls",
          "model_name": "ProgressStyleModel",
          "model_module_version": "1.5.0",
          "state": {
            "_model_module": "@jupyter-widgets/controls",
            "_model_module_version": "1.5.0",
            "_model_name": "ProgressStyleModel",
            "_view_count": null,
            "_view_module": "@jupyter-widgets/base",
            "_view_module_version": "1.2.0",
            "_view_name": "StyleView",
            "bar_color": null,
            "description_width": ""
          }
        },
        "e53d4be5789046e9a2f7ebeeb6788da3": {
          "model_module": "@jupyter-widgets/base",
          "model_name": "LayoutModel",
          "model_module_version": "1.2.0",
          "state": {
            "_model_module": "@jupyter-widgets/base",
            "_model_module_version": "1.2.0",
            "_model_name": "LayoutModel",
            "_view_count": null,
            "_view_module": "@jupyter-widgets/base",
            "_view_module_version": "1.2.0",
            "_view_name": "LayoutView",
            "align_content": null,
            "align_items": null,
            "align_self": null,
            "border": null,
            "bottom": null,
            "display": null,
            "flex": null,
            "flex_flow": null,
            "grid_area": null,
            "grid_auto_columns": null,
            "grid_auto_flow": null,
            "grid_auto_rows": null,
            "grid_column": null,
            "grid_gap": null,
            "grid_row": null,
            "grid_template_areas": null,
            "grid_template_columns": null,
            "grid_template_rows": null,
            "height": null,
            "justify_content": null,
            "justify_items": null,
            "left": null,
            "margin": null,
            "max_height": null,
            "max_width": null,
            "min_height": null,
            "min_width": null,
            "object_fit": null,
            "object_position": null,
            "order": null,
            "overflow": null,
            "overflow_x": null,
            "overflow_y": null,
            "padding": null,
            "right": null,
            "top": null,
            "visibility": null,
            "width": null
          }
        },
        "31550c9307b0434cac3c79cfb8ef36b2": {
          "model_module": "@jupyter-widgets/controls",
          "model_name": "DescriptionStyleModel",
          "model_module_version": "1.5.0",
          "state": {
            "_model_module": "@jupyter-widgets/controls",
            "_model_module_version": "1.5.0",
            "_model_name": "DescriptionStyleModel",
            "_view_count": null,
            "_view_module": "@jupyter-widgets/base",
            "_view_module_version": "1.2.0",
            "_view_name": "StyleView",
            "description_width": ""
          }
        }
      }
    }
  },
  "nbformat": 4,
  "nbformat_minor": 0
}